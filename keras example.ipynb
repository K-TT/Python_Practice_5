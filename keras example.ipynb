{
  "nbformat": 4,
  "nbformat_minor": 0,
  "metadata": {
    "colab": {
      "name": "Untitled0.ipynb",
      "provenance": [],
      "collapsed_sections": []
    },
    "kernelspec": {
      "name": "python3",
      "display_name": "Python 3"
    },
    "language_info": {
      "name": "python"
    }
  },
  "cells": [
    {
      "cell_type": "code",
      "metadata": {
        "colab": {
          "base_uri": "https://localhost:8080/"
        },
        "id": "YmcLkak1BDy2",
        "outputId": "2f911e4e-5b79-4f81-f6f3-e7e692fa8615"
      },
      "source": [
        "import numpy as np\n",
        "import tensorflow as tf\n",
        "from tensorflow import keras\n",
        "from tensorflow.keras import layers\n",
        "\n",
        "inputs = keras.Input(shape=(784,)) #2^3*7^2\n",
        "\n",
        "dense = layers.Dense(64, activation=\"relu\")\n",
        "x = dense(inputs)\n",
        "\n",
        "y = layers.Dense(64, activation=\"relu\")(x)\n",
        "outputs = layers.Dense(10)(y)\n",
        "\n",
        "model = keras.Model(inputs=inputs, outputs=outputs, name=\"mnist_model\")\n",
        "keras.utils.plot_model(model, r\"d:\\my_first_model.png\")\n",
        "keras.utils.plot_model(model, r\"d:\\my_first_model_with_shape_info.png\", show_shapes=True)\n",
        "\n",
        "#Ref: https://keras.io/api/optimizers/\n",
        "(x_train, y_train), (x_test, y_test) = keras.datasets.mnist.load_data()\n",
        "\n",
        "x_train = x_train.reshape(60000, 784).astype(\"float32\") / 255\n",
        "x_test = x_test.reshape(10000, 784).astype(\"float32\") / 255\n",
        "\n",
        "model.compile(\n",
        "loss=keras.losses.SparseCategoricalCrossentropy(from_logits=True),\n",
        "optimizer=keras.optimizers.RMSprop(),\n",
        "metrics=[\"accuracy\"],\n",
        ")\n",
        "history = model.fit(x_train, y_train, batch_size=64, epochs=2, validation_split=0.2)\n",
        "\n",
        "test_scores = model.evaluate(x_test, y_test, verbose=2)\n",
        "print(\"Test loss:\", test_scores[0])\n",
        "print(\"Test accuracy:\", test_scores[1])\n",
        "\n",
        "model.save(r\"d:\\keras_model.mdl\")\n",
        "del model\n",
        "\n",
        "\n"
      ],
      "execution_count": 16,
      "outputs": [
        {
          "output_type": "stream",
          "name": "stdout",
          "text": [
            "Epoch 1/2\n",
            "750/750 [==============================] - 2s 3ms/step - loss: 0.3356 - accuracy: 0.9049 - val_loss: 0.1746 - val_accuracy: 0.9477\n",
            "Epoch 2/2\n",
            "750/750 [==============================] - 2s 3ms/step - loss: 0.1523 - accuracy: 0.9550 - val_loss: 0.1322 - val_accuracy: 0.9607\n",
            "313/313 - 0s - loss: 0.1262 - accuracy: 0.9632\n",
            "Test loss: 0.12615390121936798\n",
            "Test accuracy: 0.9631999731063843\n",
            "INFO:tensorflow:Assets written to: d:\\keras_model.mdl/assets\n"
          ]
        }
      ]
    }
  ]
}